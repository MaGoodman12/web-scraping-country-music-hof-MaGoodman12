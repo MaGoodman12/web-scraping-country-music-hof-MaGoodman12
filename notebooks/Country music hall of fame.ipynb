{
 "cells": [
  {
   "cell_type": "markdown",
   "id": "94500660",
   "metadata": {},
   "source": [
    "# CMHOF webscraping project"
   ]
  },
  {
   "cell_type": "markdown",
   "id": "3e27e86b",
   "metadata": {},
   "source": [
    "### import needed packages"
   ]
  },
  {
   "cell_type": "code",
   "execution_count": 6,
   "id": "d88f366b",
   "metadata": {},
   "outputs": [],
   "source": [
    "import requests\n",
    "from bs4 import BeautifulSoup  \n",
    "import pandas as pd\n",
    "import re"
   ]
  },
  {
   "cell_type": "markdown",
   "id": "8e1eb258",
   "metadata": {},
   "source": [
    "### collect website url"
   ]
  },
  {
   "cell_type": "code",
   "execution_count": 7,
   "id": "3de6127f",
   "metadata": {},
   "outputs": [
    {
     "data": {
      "text/plain": [
       "200"
      ]
     },
     "execution_count": 7,
     "metadata": {},
     "output_type": "execute_result"
    }
   ],
   "source": [
    "url = 'https://countrymusichalloffame.org/hall-of-fame/members/'\n",
    "response = requests.get(url)\n",
    "\n",
    "response.status_code"
   ]
  },
  {
   "cell_type": "code",
   "execution_count": null,
   "id": "cc22ac59",
   "metadata": {},
   "outputs": [],
   "source": [
    "response.content"
   ]
  },
  {
   "cell_type": "markdown",
   "id": "3239dc68",
   "metadata": {},
   "source": [
    "### make soup"
   ]
  },
  {
   "cell_type": "code",
   "execution_count": null,
   "id": "f817c2bb",
   "metadata": {},
   "outputs": [],
   "source": [
    "soup = BeautifulSoup(response.content, 'lxml')\n",
    "print(soup.title)\n",
    "print(\"--------------\")\n",
    "print(soup)"
   ]
  },
  {
   "cell_type": "markdown",
   "id": "d2b57218",
   "metadata": {},
   "source": [
    "### get names"
   ]
  },
  {
   "cell_type": "code",
   "execution_count": 34,
   "id": "e8b0968c",
   "metadata": {},
   "outputs": [
    {
     "name": "stdout",
     "output_type": "stream",
     "text": [
      "[<div class=\"vertical-card_content--title\">\n",
      "<h3>Roy Acuff</h3>\n",
      "</div>, <div class=\"vertical-card_content--title\">\n",
      "<h3>Alabama</h3>\n",
      "</div>, <div class=\"vertical-card_content--title\">\n",
      "<h3>Bill Anderson</h3>\n",
      "</div>, <div class=\"vertical-card_content--title\">\n",
      "<h3>Eddy Arnold</h3>\n",
      "</div>, <div class=\"vertical-card_content--title\">\n",
      "<h3>Chet Atkins</h3>\n",
      "</div>, <div class=\"vertical-card_content--title\">\n",
      "<h3>Gene Autry</h3>\n",
      "</div>, <div class=\"vertical-card_content--title\">\n",
      "<h3>DeFord Bailey</h3>\n",
      "</div>, <div class=\"vertical-card_content--title\">\n",
      "<h3>Bobby Bare</h3>\n",
      "</div>, <div class=\"vertical-card_content--title\">\n",
      "<h3>Johnny Bond</h3>\n",
      "</div>]\n"
     ]
    }
   ],
   "source": [
    "name = soup.find_all('div', attrs = {'class':'vertical-card_content--title'})                  \n",
    "print(name)"
   ]
  },
  {
   "cell_type": "code",
   "execution_count": 37,
   "id": "fe322c2b",
   "metadata": {},
   "outputs": [
    {
     "ename": "TypeError",
     "evalue": "'NoneType' object is not callable",
     "output_type": "error",
     "traceback": [
      "\u001b[1;31m---------------------------------------------------------------------------\u001b[0m",
      "\u001b[1;31mTypeError\u001b[0m                                 Traceback (most recent call last)",
      "\u001b[1;32m<ipython-input-37-b9149e709c2c>\u001b[0m in \u001b[0;36m<module>\u001b[1;34m\u001b[0m\n\u001b[1;32m----> 1\u001b[1;33m \u001b[0minduction_date\u001b[0m \u001b[1;33m=\u001b[0m \u001b[0msoup\u001b[0m\u001b[1;33m.\u001b[0m\u001b[0mfindall\u001b[0m\u001b[1;33m(\u001b[0m\u001b[1;34m'div'\u001b[0m\u001b[1;33m,\u001b[0m \u001b[0mattrs\u001b[0m \u001b[1;33m=\u001b[0m \u001b[1;33m{\u001b[0m\u001b[1;34m\"class\"\u001b[0m\u001b[1;33m:\u001b[0m\u001b[1;34m\"vertical-card_content--copy\"\u001b[0m\u001b[1;33m}\u001b[0m\u001b[1;33m)\u001b[0m\u001b[1;33m\u001b[0m\u001b[1;33m\u001b[0m\u001b[0m\n\u001b[0m\u001b[0;32m      2\u001b[0m \u001b[0mprint\u001b[0m\u001b[1;33m(\u001b[0m\u001b[0minduction_date\u001b[0m\u001b[1;33m)\u001b[0m\u001b[1;33m\u001b[0m\u001b[1;33m\u001b[0m\u001b[0m\n",
      "\u001b[1;31mTypeError\u001b[0m: 'NoneType' object is not callable"
     ]
    }
   ],
   "source": [
    "induction_date = soup.findall('div', attrs = {\"class\":\"vertical-card_content--copy\"})\n",
    "print(induction_date)\n",
    "\n",
    "#re.findall(^r\"\\d$)"
   ]
  },
  {
   "cell_type": "code",
   "execution_count": null,
   "id": "57e54623",
   "metadata": {},
   "outputs": [],
   "source": []
  }
 ],
 "metadata": {
  "kernelspec": {
   "display_name": "Python 3",
   "language": "python",
   "name": "python3"
  },
  "language_info": {
   "codemirror_mode": {
    "name": "ipython",
    "version": 3
   },
   "file_extension": ".py",
   "mimetype": "text/x-python",
   "name": "python",
   "nbconvert_exporter": "python",
   "pygments_lexer": "ipython3",
   "version": "3.8.8"
  }
 },
 "nbformat": 4,
 "nbformat_minor": 5
}
